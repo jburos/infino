{
 "cells": [
  {
   "cell_type": "markdown",
   "metadata": {},
   "source": [
    "# Introduction\n",
    "\n",
    "## Data Inputs\n",
    "\n",
    "The input training data is comprised of:\n",
    "\n",
    "- an $(S \\times G)$ matrix of gene counts $\\boldsymbol Y$\n",
    "    - Each entry $y_{s,g}$ corresponds to the number of reads (tpm) of transcript $g$ in sample $s$\n",
    "- a $(S \\times C)$ matrix of known sample compositions $\\boldsymbol X$\n",
    "    - Each entry $ x_{s,c}$ corresponds to the proportion of sample $s$ comprised of cell type $c$.\n",
    "    - Each value $ x_{s,c}$ is in range [0, 1]\n",
    "    - Sum of values for a sample = 1\n",
    "- a $(C \\times M)$ matrix of cell-type features $\\boldsymbol F$\n",
    "    - Each entry $f_{c,m} $ in $F$ describes a feature $f$ among cells of type $c$.\n",
    "    - In our first iteration, we have used the vector of cell-surface-markers as cell-type features. But this can be expanded or removed from the model.\n",
    "    - As an example: CD4+ T helper cells are identified by the combination of markers: [cd4+, crth2+, cxcr3-]. These values are coded as dummy variables to comprise the feature vector $F_{c}$ for that cell type.\n",
    "\n",
    "This implies that we have indices:\n",
    "\n",
    "- **C**: number of cell type labels under consideration\n",
    "- **S**: number of samples\n",
    "- **G**: number of gene transcripts\n",
    "- **M**: number of cell-type features\n",
    "\n",
    "## High-level approach\n",
    "\n",
    "In general our approach is to model the transcript-level reads $Y$ as a function of known sample compositions $X$ and possibly cell-type features $F$.\n",
    "\n",
    "Specifically:\n",
    "\n",
    "   $$ E(y | X, F, \\theta ) = g^{-1}(X, F, \\theta) $$\n",
    "\n",
    "For a set of parameters \\theta and link function $g$. \n",
    "\n",
    "Having learned this relationship from training data, we then use the estimated parameters $\\theta$ and observed read counts $Y2$ to _infer_ the composition of cell types $\\tilde{X2}$ for samples of unknown composition.\n",
    "\n"
   ]
  },
  {
   "cell_type": "markdown",
   "metadata": {
    "collapsed": true
   },
   "source": [
    "# First model\n",
    "\n",
    "We start with a simplifying assumption that the sample-level transcripts are a linear sum of the frequencies of transcripts for each cell-type, weighted according to the sample composition.\n",
    "\n",
    "This assumption yields a pretty standard GLM for the read counts: \n",
    "\n",
    "   $$ E(Y | X, \\beta ) = g^{-1}(X\\beta) $$\n",
    "\n",
    "where $\\boldsymbol \\beta$ is a $ (C \\times G) $ matrix. In this context the parameter $\\beta$ has a convenient interpretation - namely, the expression profile for each cell-type. \n",
    "\n",
    "[//]: # (In other words, for a single sample $s$ with composition $ \\vec{x_{c}} $: )\n",
    "[//]: # \n",
    "[//]: # (  $$ E(\\vec{y_{s}}) = g^{-1}(x_{(1 \\times C)} * \\beta_{(C \\times G)}) $$ )\n",
    "\n",
    "Because the observed data are (likely zero-inflated) count data, we choose a _negative binomial_ link function. \n",
    "\n",
    "$$ E(Y) = NegBinomial( X\\beta , \\vec{\\phi_g} )  $$\n",
    "\n",
    "Here we start by assuming that the dispersion ($\\phi$) varies by transcript $g$.\n"
   ]
  },
  {
   "cell_type": "markdown",
   "metadata": {},
   "source": [
    "### Incorporating hierarchy of cell types\n",
    "\n",
    "We model the \"hierarchy\" of cell types by observing the similarity of their expression profiles among transcripts.\n",
    "\n",
    "Specifically, through the prior on our parameter $ \\beta $:\n",
    "\n",
    "$ \\beta_{(C \\times G)} = MultiNormal(u_{(C \\times G)}, \\boldsymbol \\Sigma)$ \n",
    "\n",
    "where \n",
    "\n",
    "  - $u_{g,c}$ is a linear predictor for the expression of a transcript $g$ for cell type $c$, and\n",
    "  - the covariance matrix $\\Sigma$ is decomposed into the diagonal matrix (\"scaling factor\") $\\tau$ and correlation matrix $\\Omega$\n",
    "\n",
    "$$ \\Sigma = \\tau \\space \\Omega \\space \\tau $$\n",
    "\n",
    "\n",
    "### including cell-type features\n",
    "\n",
    "$ u = \\vec{p_{C \\times 1}} + \\boldsymbol{F}_{C \\times M} * \n",
    "( \\vec {b_{M \\times 1}} + \\vec{\\kappa_{g_{M \\times 1}}} ) $\n",
    "\n",
    "and "
   ]
  },
  {
   "cell_type": "code",
   "execution_count": null,
   "metadata": {
    "collapsed": true
   },
   "outputs": [],
   "source": []
  }
 ],
 "metadata": {
  "kernelspec": {
   "display_name": "Python 3",
   "language": "python",
   "name": "python3"
  },
  "language_info": {
   "codemirror_mode": {
    "name": "ipython",
    "version": 3
   },
   "file_extension": ".py",
   "mimetype": "text/x-python",
   "name": "python",
   "nbconvert_exporter": "python",
   "pygments_lexer": "ipython3",
   "version": "3.6.1"
  }
 },
 "nbformat": 4,
 "nbformat_minor": 0
}
